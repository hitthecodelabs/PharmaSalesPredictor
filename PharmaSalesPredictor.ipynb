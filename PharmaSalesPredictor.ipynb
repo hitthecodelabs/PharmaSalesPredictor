{
 "cells": [
  {
   "cell_type": "code",
   "execution_count": 2,
   "metadata": {
    "colab": {
     "base_uri": "https://localhost:8080/"
    },
    "id": "TVekD2j466r4",
    "outputId": "3fa57e45-2279-437c-e7ea-19bf8fbb0139"
   },
   "outputs": [
    {
     "name": "stdout",
     "output_type": "stream",
     "text": [
      "\u001b[2K     \u001b[90m━━━━━━━━━━━━━━━━━━━━━━━━━━━━━━━━━━━━━━━━\u001b[0m \u001b[32m316.9/316.9 MB\u001b[0m \u001b[31m2.0 MB/s\u001b[0m eta \u001b[36m0:00:00\u001b[0m\n",
      "\u001b[?25h  Preparing metadata (setup.py) ... \u001b[?25l\u001b[?25hdone\n",
      "  Building wheel for pyspark (setup.py) ... \u001b[?25l\u001b[?25hdone\n"
     ]
    }
   ],
   "source": [
    "!pip --quiet install pyspark"
   ]
  },
  {
   "cell_type": "code",
   "execution_count": 3,
   "metadata": {
    "id": "0emN-LVG6-yC"
   },
   "outputs": [],
   "source": [
    "# Importing necessary libraries for data manipulation and processing\n",
    "import os\n",
    "import pandas as pd\n",
    "from pyspark.sql import SparkSession\n",
    "from pyspark.sql.functions import col, to_date, dayofweek, weekofyear, year, month\n",
    "from pyspark.sql.types import FloatType, IntegerType\n",
    "from pyspark.ml.feature import VectorAssembler\n",
    "from pyspark.ml.regression import LinearRegression\n",
    "from pyspark.ml.evaluation import RegressionEvaluator\n",
    "from pyspark.sql.functions import sum as _sum"
   ]
  },
  {
   "cell_type": "code",
   "execution_count": 4,
   "metadata": {
    "id": "CKnCF9Uq7IDu"
   },
   "outputs": [],
   "source": [
    "# Setting up the Spark session\n",
    "spark = SparkSession.builder.master(\"local\").appName(\"Sales Prediction\").getOrCreate()"
   ]
  },
  {
   "cell_type": "code",
   "execution_count": 15,
   "metadata": {
    "id": "Pw6G8te2sNXC"
   },
   "outputs": [],
   "source": [
    "os.environ['PYARROW_IGNORE_TIMEZONE'] = '1'\n",
    "spark.conf.set(\"spark.sql.legacy.timeParserPolicy\", \"LEGACY\")"
   ]
  },
  {
   "cell_type": "code",
   "execution_count": 5,
   "metadata": {
    "id": "jnvq8lBP7OWW"
   },
   "outputs": [],
   "source": [
    "# Reading and loading the dataset\n",
    "ds = spark.read.format(\"csv\").options(header=\"true\", inferSchema=\"true\", delimiter=\",\").load(\"dataset.csv\")"
   ]
  },
  {
   "cell_type": "code",
   "execution_count": 6,
   "metadata": {
    "colab": {
     "base_uri": "https://localhost:8080/"
    },
    "id": "J_M5XEeowo65",
    "outputId": "eef9ab6f-a53d-4cc1-837d-e959d932f756"
   },
   "outputs": [
    {
     "data": {
      "text/plain": [
       "DataFrame[IdFacturaCab: int, Documento: string, Identificacion: string, NombreCliente: string, IdFarmacia: string, Nombre: string, Descripcion: string, IdMedicamento: string, Medicamento: string, Unidad: string, Fraccion: int, PrecioUnitario: double, PrecioParcial: double, Descuento: double, Iva: double, PrecioTotal: double, TotalVenta: double, EstadoDocumento: string, Observacion: string, FechaEntero: int, FechaCreacion: string, UsuarioCreacion: string, FechaActualiza: string, UsuarioActualiza: string]"
      ]
     },
     "execution_count": 6,
     "metadata": {},
     "output_type": "execute_result"
    }
   ],
   "source": [
    "ds"
   ]
  },
  {
   "cell_type": "code",
   "execution_count": 7,
   "metadata": {
    "id": "hjSQSNC87QVM"
   },
   "outputs": [],
   "source": [
    "# Data cleaning and preprocessing\n",
    "ds = ds.withColumn(\"PrecioUnitario\", col(\"PrecioUnitario\").cast(FloatType())) \\\n",
    "       .withColumn(\"IdMedicamento\", col(\"IdMedicamento\").cast(IntegerType())) \\\n",
    "       .withColumn(\"IdFarmacia\", col(\"IdFarmacia\").cast(IntegerType())) \\\n",
    "       .withColumn(\"PrecioParcial\", col(\"PrecioParcial\").cast(FloatType())) \\\n",
    "       .withColumn(\"Descuento\", col(\"Descuento\").cast(FloatType())) \\\n",
    "       .withColumn(\"Iva\", col(\"Iva\").cast(FloatType())) \\\n",
    "       .withColumn(\"PrecioTotal\", col(\"PrecioTotal\").cast(FloatType())) \\\n",
    "       .withColumn(\"TotalVenta\", col(\"TotalVenta\").cast(FloatType())) \\\n",
    "       .withColumn(\"FechaCreacion\", to_date(col(\"FechaCreacion\"), \"yyyy-MM-dd\")) \\\n",
    "       .withColumn(\"FechaActualiza\", to_date(col(\"FechaActualiza\"), \"yyyy-MM-dd\"))"
   ]
  },
  {
   "cell_type": "code",
   "execution_count": 8,
   "metadata": {
    "id": "cIXM77v19_G_"
   },
   "outputs": [],
   "source": [
    "# Filtering and transforming the dataset\n",
    "df = ds.filter((col(\"EstadoDocumento\") == \"EMI\") & (col(\"PrecioUnitario\") <= 201) & (col(\"PrecioTotal\") <= 250))\n",
    "df = df.withColumn(\"Anio\", year(col(\"FechaCreacion\"))) \\\n",
    "       .withColumn(\"Mes\", month(col(\"FechaCreacion\"))) \\\n",
    "       .withColumn(\"DiaSemana\", dayofweek(col(\"FechaCreacion\"))) \\\n",
    "       .withColumn(\"Mes\", weekofyear(col(\"FechaCreacion\")))"
   ]
  },
  {
   "cell_type": "code",
   "execution_count": 9,
   "metadata": {
    "id": "ppMHldfwB5t1"
   },
   "outputs": [],
   "source": [
    "# Identifying top-selling medications\n",
    "best_sellers = df.groupBy(\"Medicamento\").sum(\"TotalVenta\").orderBy(col(\"sum(TotalVenta)\").desc()).head(10)\n",
    "best_seller_medications = [row[\"Medicamento\"] for row in best_sellers]\n",
    "dff = df.filter(col(\"Medicamento\").isin(best_seller_medications))"
   ]
  },
  {
   "cell_type": "code",
   "execution_count": 10,
   "metadata": {
    "id": "-lsl4dkQDI3o"
   },
   "outputs": [],
   "source": [
    "# Selecting and grouping required columns for analysis\n",
    "dw = dff.select(\"IdFarmacia\", \"IdMedicamento\", \"Mes\", \"TotalVenta\")\n",
    "df_grouped = dw.groupBy(\"IdFarmacia\", \"IdMedicamento\", \"Mes\").agg(_sum(\"TotalVenta\").alias(\"VentaMensual\"))"
   ]
  },
  {
   "cell_type": "code",
   "execution_count": 11,
   "metadata": {
    "colab": {
     "base_uri": "https://localhost:8080/"
    },
    "id": "DbGoNouGEp39",
    "outputId": "13493874-8398-4638-fc55-803dd470c34e"
   },
   "outputs": [
    {
     "data": {
      "text/plain": [
       "DataFrame[IdFarmacia: int, IdMedicamento: int, Mes: int, VentaMensual: double]"
      ]
     },
     "execution_count": 11,
     "metadata": {},
     "output_type": "execute_result"
    }
   ],
   "source": [
    "df_grouped"
   ]
  },
  {
   "cell_type": "code",
   "execution_count": 12,
   "metadata": {
    "id": "i-S619l5sDiB"
   },
   "outputs": [],
   "source": [
    "# Feature engineering for the model\n",
    "vectorAssembler = VectorAssembler(inputCols=['IdFarmacia', 'IdMedicamento', 'Mes'], outputCol='features')\n",
    "df_features = vectorAssembler.transform(df_grouped).select('features', 'VentaMensual')"
   ]
  },
  {
   "cell_type": "code",
   "execution_count": 13,
   "metadata": {
    "id": "qvNzCUNKsDft"
   },
   "outputs": [],
   "source": [
    "# Splitting data into training and test sets\n",
    "(trainingData, testData) = df_features.randomSplit([0.75, 0.25], seed=0)"
   ]
  },
  {
   "cell_type": "code",
   "execution_count": 27,
   "metadata": {
    "colab": {
     "base_uri": "https://localhost:8080/"
    },
    "id": "NefWBgADs0Gg",
    "outputId": "db92d588-84db-4fcb-d882-a87935e22a41"
   },
   "outputs": [
    {
     "name": "stdout",
     "output_type": "stream",
     "text": [
      "+----------------+------------------+\n",
      "|        features|      VentaMensual|\n",
      "+----------------+------------------+\n",
      "|[1.0,2267.0,2.0]|  684.220005273819|\n",
      "|[1.0,2267.0,3.0]| 508.7100067138672|\n",
      "|[1.0,2267.0,4.0]|249.58000326156616|\n",
      "|[1.0,2267.0,5.0]| 314.9900028705597|\n",
      "|[1.0,2267.0,6.0]| 518.7599935531616|\n",
      "|[1.0,2267.0,7.0]| 359.2100052833557|\n",
      "|[1.0,2267.0,8.0]|186.07000017166138|\n",
      "+----------------+------------------+\n",
      "only showing top 7 rows\n",
      "\n"
     ]
    }
   ],
   "source": [
    "trainingData.show(n=7, vertical=False)"
   ]
  },
  {
   "cell_type": "code",
   "execution_count": 16,
   "metadata": {
    "id": "tlQCTFV5sDdh"
   },
   "outputs": [],
   "source": [
    "# Training a linear regression model\n",
    "lr = LinearRegression(featuresCol='features', labelCol='VentaMensual')\n",
    "lrModel = lr.fit(trainingData)"
   ]
  },
  {
   "cell_type": "code",
   "execution_count": 17,
   "metadata": {
    "colab": {
     "base_uri": "https://localhost:8080/"
    },
    "id": "ny43rkepsDbi",
    "outputId": "03c30f24-2ad6-4ff8-98b8-53ad8d2b616b"
   },
   "outputs": [
    {
     "name": "stdout",
     "output_type": "stream",
     "text": [
      "Root Mean Squared Error (RMSE) on test data = 4977.83824494952\n"
     ]
    }
   ],
   "source": [
    "# Making predictions on the test data and evaluating the model\n",
    "predictions = lrModel.transform(testData)\n",
    "evaluator = RegressionEvaluator(labelCol='VentaMensual', predictionCol='prediction', metricName='rmse')\n",
    "rmse = evaluator.evaluate(predictions)\n",
    "print('Root Mean Squared Error (RMSE) on test data =', rmse)"
   ]
  },
  {
   "cell_type": "code",
   "execution_count": 18,
   "metadata": {
    "id": "l1HyEuJ6sDZX"
   },
   "outputs": [],
   "source": [
    "# Setting up for making new predictions\n",
    "from pyspark.sql import Row\n",
    "sc = spark.sparkContext"
   ]
  },
  {
   "cell_type": "code",
   "execution_count": 19,
   "metadata": {
    "colab": {
     "base_uri": "https://localhost:8080/"
    },
    "id": "9MpHHlvisDXf",
    "outputId": "764aff1d-7afe-4009-ab0d-d8b67cdb4ac0"
   },
   "outputs": [
    {
     "name": "stdout",
     "output_type": "stream",
     "text": [
      "+----------+-------------+---+-----------------+-----------------+\n",
      "|IdFarmacia|IdMedicamento|Mes|         features|       prediction|\n",
      "+----------+-------------+---+-----------------+-----------------+\n",
      "|         1|         2267| 25|[1.0,2267.0,25.0]|409.5655878307707|\n",
      "+----------+-------------+---+-----------------+-----------------+\n",
      "\n"
     ]
    }
   ],
   "source": [
    "# Example of predicting sales for a specific case\n",
    "mes = 25\n",
    "id_med = 2267\n",
    "id_farm = 1\n",
    "new_data = sc.parallelize([Row(IdFarmacia=id_farm, IdMedicamento=id_med, Mes=mes)])\n",
    "new_df = spark.createDataFrame(new_data)\n",
    "new_df2 = vectorAssembler.transform(new_df)\n",
    "new_predictions = lrModel.transform(new_df2)\n",
    "new_predictions.show()"
   ]
  },
  {
   "cell_type": "code",
   "execution_count": 20,
   "metadata": {
    "colab": {
     "base_uri": "https://localhost:8080/"
    },
    "id": "kd_jofEwsDU5",
    "outputId": "7c4ee2eb-6480-49e7-994f-88cfe6a17952"
   },
   "outputs": [
    {
     "name": "stdout",
     "output_type": "stream",
     "text": [
      "El valor estimado de ventas del artículo 2267 en la farmacia 1 para el mes Nª25 es de $409.57 aproximadamente.\n"
     ]
    }
   ],
   "source": [
    "# Interpreting the prediction result\n",
    "pred = float(new_predictions.select('prediction').pandas_api().iloc[0])\n",
    "reporte = f\"El valor estimado de ventas del artículo {id_med} en la farmacia {id_farm} para el mes Nª{mes} es de ${pred:.2f} aproximadamente.\"\n",
    "print(reporte)"
   ]
  },
  {
   "cell_type": "code",
   "execution_count": 21,
   "metadata": {
    "id": "sPIZ4DwCsfLp"
   },
   "outputs": [],
   "source": [
    "# Collecting unique medication IDs for further analysis\n",
    "unique_ids = df_grouped.select(\"IdMedicamento\").distinct().rdd.flatMap(lambda x: x).collect()"
   ]
  },
  {
   "cell_type": "code",
   "execution_count": 24,
   "metadata": {
    "id": "ACbi91dRsfHc"
   },
   "outputs": [],
   "source": [
    "# Generating predictions for multiple combinations of farmacies, medications, and months\n",
    "M = []\n",
    "for id_med in unique_ids:\n",
    "    for id_farm in range(1, 4):\n",
    "        for mes in range(1, 25):\n",
    "            new_data = sc.parallelize([Row(IdFarmacia=id_farm, IdMedicamento=id_med, Mes=mes)])\n",
    "            new_df = spark.createDataFrame(new_data)\n",
    "            new_df2 = vectorAssembler.transform(new_df)\n",
    "            new_predictions = lrModel.transform(new_df2)\n",
    "            pred = float(new_predictions.select('prediction').pandas_api().iloc[0])\n",
    "            m = [id_med, id_farm, mes, pred]\n",
    "            M.append(m)"
   ]
  },
  {
   "cell_type": "code",
   "execution_count": 25,
   "metadata": {
    "id": "7CnauPQMsfEy"
   },
   "outputs": [],
   "source": [
    "# Creating a DataFrame from the predictions and exporting it\n",
    "dt = pd.DataFrame(M, columns=[['IdFarmacia', 'IdMedicamento', 'Mes', 'Inference']])\n",
    "# dt.to_csv('data.csv', index=False)"
   ]
  },
  {
   "cell_type": "code",
   "execution_count": 26,
   "metadata": {
    "colab": {
     "base_uri": "https://localhost:8080/",
     "height": 423
    },
    "id": "pLCdH8kdsfCh",
    "outputId": "e361bebe-80d8-4b08-96ea-abdab549676a"
   },
   "outputs": [
    {
     "data": {
      "text/html": [
       "\n",
       "  <div id=\"df-7cf54647-bf6c-493d-b2a2-3b69bc3768a8\" class=\"colab-df-container\">\n",
       "    <div>\n",
       "<style scoped>\n",
       "    .dataframe tbody tr th:only-of-type {\n",
       "        vertical-align: middle;\n",
       "    }\n",
       "\n",
       "    .dataframe tbody tr th {\n",
       "        vertical-align: top;\n",
       "    }\n",
       "\n",
       "    .dataframe thead tr th {\n",
       "        text-align: left;\n",
       "    }\n",
       "</style>\n",
       "<table border=\"1\" class=\"dataframe\">\n",
       "  <thead>\n",
       "    <tr>\n",
       "      <th></th>\n",
       "      <th>IdFarmacia</th>\n",
       "      <th>IdMedicamento</th>\n",
       "      <th>Mes</th>\n",
       "      <th>Inference</th>\n",
       "    </tr>\n",
       "  </thead>\n",
       "  <tbody>\n",
       "    <tr>\n",
       "      <th>0</th>\n",
       "      <td>78158</td>\n",
       "      <td>1</td>\n",
       "      <td>1</td>\n",
       "      <td>5842.436214</td>\n",
       "    </tr>\n",
       "    <tr>\n",
       "      <th>1</th>\n",
       "      <td>78158</td>\n",
       "      <td>1</td>\n",
       "      <td>2</td>\n",
       "      <td>5872.942515</td>\n",
       "    </tr>\n",
       "    <tr>\n",
       "      <th>2</th>\n",
       "      <td>78158</td>\n",
       "      <td>1</td>\n",
       "      <td>3</td>\n",
       "      <td>5903.448816</td>\n",
       "    </tr>\n",
       "    <tr>\n",
       "      <th>3</th>\n",
       "      <td>78158</td>\n",
       "      <td>1</td>\n",
       "      <td>4</td>\n",
       "      <td>5933.955118</td>\n",
       "    </tr>\n",
       "    <tr>\n",
       "      <th>4</th>\n",
       "      <td>78158</td>\n",
       "      <td>1</td>\n",
       "      <td>5</td>\n",
       "      <td>5964.461419</td>\n",
       "    </tr>\n",
       "    <tr>\n",
       "      <th>...</th>\n",
       "      <td>...</td>\n",
       "      <td>...</td>\n",
       "      <td>...</td>\n",
       "      <td>...</td>\n",
       "    </tr>\n",
       "    <tr>\n",
       "      <th>715</th>\n",
       "      <td>8823</td>\n",
       "      <td>3</td>\n",
       "      <td>20</td>\n",
       "      <td>2178.612357</td>\n",
       "    </tr>\n",
       "    <tr>\n",
       "      <th>716</th>\n",
       "      <td>8823</td>\n",
       "      <td>3</td>\n",
       "      <td>21</td>\n",
       "      <td>2209.118658</td>\n",
       "    </tr>\n",
       "    <tr>\n",
       "      <th>717</th>\n",
       "      <td>8823</td>\n",
       "      <td>3</td>\n",
       "      <td>22</td>\n",
       "      <td>2239.624959</td>\n",
       "    </tr>\n",
       "    <tr>\n",
       "      <th>718</th>\n",
       "      <td>8823</td>\n",
       "      <td>3</td>\n",
       "      <td>23</td>\n",
       "      <td>2270.131260</td>\n",
       "    </tr>\n",
       "    <tr>\n",
       "      <th>719</th>\n",
       "      <td>8823</td>\n",
       "      <td>3</td>\n",
       "      <td>24</td>\n",
       "      <td>2300.637562</td>\n",
       "    </tr>\n",
       "  </tbody>\n",
       "</table>\n",
       "<p>720 rows × 4 columns</p>\n",
       "</div>\n",
       "    <div class=\"colab-df-buttons\">\n",
       "\n",
       "  <div class=\"colab-df-container\">\n",
       "    <button class=\"colab-df-convert\" onclick=\"convertToInteractive('df-7cf54647-bf6c-493d-b2a2-3b69bc3768a8')\"\n",
       "            title=\"Convert this dataframe to an interactive table.\"\n",
       "            style=\"display:none;\">\n",
       "\n",
       "  <svg xmlns=\"http://www.w3.org/2000/svg\" height=\"24px\" viewBox=\"0 -960 960 960\">\n",
       "    <path d=\"M120-120v-720h720v720H120Zm60-500h600v-160H180v160Zm220 220h160v-160H400v160Zm0 220h160v-160H400v160ZM180-400h160v-160H180v160Zm440 0h160v-160H620v160ZM180-180h160v-160H180v160Zm440 0h160v-160H620v160Z\"/>\n",
       "  </svg>\n",
       "    </button>\n",
       "\n",
       "  <style>\n",
       "    .colab-df-container {\n",
       "      display:flex;\n",
       "      gap: 12px;\n",
       "    }\n",
       "\n",
       "    .colab-df-convert {\n",
       "      background-color: #E8F0FE;\n",
       "      border: none;\n",
       "      border-radius: 50%;\n",
       "      cursor: pointer;\n",
       "      display: none;\n",
       "      fill: #1967D2;\n",
       "      height: 32px;\n",
       "      padding: 0 0 0 0;\n",
       "      width: 32px;\n",
       "    }\n",
       "\n",
       "    .colab-df-convert:hover {\n",
       "      background-color: #E2EBFA;\n",
       "      box-shadow: 0px 1px 2px rgba(60, 64, 67, 0.3), 0px 1px 3px 1px rgba(60, 64, 67, 0.15);\n",
       "      fill: #174EA6;\n",
       "    }\n",
       "\n",
       "    .colab-df-buttons div {\n",
       "      margin-bottom: 4px;\n",
       "    }\n",
       "\n",
       "    [theme=dark] .colab-df-convert {\n",
       "      background-color: #3B4455;\n",
       "      fill: #D2E3FC;\n",
       "    }\n",
       "\n",
       "    [theme=dark] .colab-df-convert:hover {\n",
       "      background-color: #434B5C;\n",
       "      box-shadow: 0px 1px 3px 1px rgba(0, 0, 0, 0.15);\n",
       "      filter: drop-shadow(0px 1px 2px rgba(0, 0, 0, 0.3));\n",
       "      fill: #FFFFFF;\n",
       "    }\n",
       "  </style>\n",
       "\n",
       "    <script>\n",
       "      const buttonEl =\n",
       "        document.querySelector('#df-7cf54647-bf6c-493d-b2a2-3b69bc3768a8 button.colab-df-convert');\n",
       "      buttonEl.style.display =\n",
       "        google.colab.kernel.accessAllowed ? 'block' : 'none';\n",
       "\n",
       "      async function convertToInteractive(key) {\n",
       "        const element = document.querySelector('#df-7cf54647-bf6c-493d-b2a2-3b69bc3768a8');\n",
       "        const dataTable =\n",
       "          await google.colab.kernel.invokeFunction('convertToInteractive',\n",
       "                                                    [key], {});\n",
       "        if (!dataTable) return;\n",
       "\n",
       "        const docLinkHtml = 'Like what you see? Visit the ' +\n",
       "          '<a target=\"_blank\" href=https://colab.research.google.com/notebooks/data_table.ipynb>data table notebook</a>'\n",
       "          + ' to learn more about interactive tables.';\n",
       "        element.innerHTML = '';\n",
       "        dataTable['output_type'] = 'display_data';\n",
       "        await google.colab.output.renderOutput(dataTable, element);\n",
       "        const docLink = document.createElement('div');\n",
       "        docLink.innerHTML = docLinkHtml;\n",
       "        element.appendChild(docLink);\n",
       "      }\n",
       "    </script>\n",
       "  </div>\n",
       "\n",
       "\n",
       "<div id=\"df-fa49dc17-e805-4f5b-9386-4ea4499ed2a5\">\n",
       "  <button class=\"colab-df-quickchart\" onclick=\"quickchart('df-fa49dc17-e805-4f5b-9386-4ea4499ed2a5')\"\n",
       "            title=\"Suggest charts\"\n",
       "            style=\"display:none;\">\n",
       "\n",
       "<svg xmlns=\"http://www.w3.org/2000/svg\" height=\"24px\"viewBox=\"0 0 24 24\"\n",
       "     width=\"24px\">\n",
       "    <g>\n",
       "        <path d=\"M19 3H5c-1.1 0-2 .9-2 2v14c0 1.1.9 2 2 2h14c1.1 0 2-.9 2-2V5c0-1.1-.9-2-2-2zM9 17H7v-7h2v7zm4 0h-2V7h2v10zm4 0h-2v-4h2v4z\"/>\n",
       "    </g>\n",
       "</svg>\n",
       "  </button>\n",
       "\n",
       "<style>\n",
       "  .colab-df-quickchart {\n",
       "      --bg-color: #E8F0FE;\n",
       "      --fill-color: #1967D2;\n",
       "      --hover-bg-color: #E2EBFA;\n",
       "      --hover-fill-color: #174EA6;\n",
       "      --disabled-fill-color: #AAA;\n",
       "      --disabled-bg-color: #DDD;\n",
       "  }\n",
       "\n",
       "  [theme=dark] .colab-df-quickchart {\n",
       "      --bg-color: #3B4455;\n",
       "      --fill-color: #D2E3FC;\n",
       "      --hover-bg-color: #434B5C;\n",
       "      --hover-fill-color: #FFFFFF;\n",
       "      --disabled-bg-color: #3B4455;\n",
       "      --disabled-fill-color: #666;\n",
       "  }\n",
       "\n",
       "  .colab-df-quickchart {\n",
       "    background-color: var(--bg-color);\n",
       "    border: none;\n",
       "    border-radius: 50%;\n",
       "    cursor: pointer;\n",
       "    display: none;\n",
       "    fill: var(--fill-color);\n",
       "    height: 32px;\n",
       "    padding: 0;\n",
       "    width: 32px;\n",
       "  }\n",
       "\n",
       "  .colab-df-quickchart:hover {\n",
       "    background-color: var(--hover-bg-color);\n",
       "    box-shadow: 0 1px 2px rgba(60, 64, 67, 0.3), 0 1px 3px 1px rgba(60, 64, 67, 0.15);\n",
       "    fill: var(--button-hover-fill-color);\n",
       "  }\n",
       "\n",
       "  .colab-df-quickchart-complete:disabled,\n",
       "  .colab-df-quickchart-complete:disabled:hover {\n",
       "    background-color: var(--disabled-bg-color);\n",
       "    fill: var(--disabled-fill-color);\n",
       "    box-shadow: none;\n",
       "  }\n",
       "\n",
       "  .colab-df-spinner {\n",
       "    border: 2px solid var(--fill-color);\n",
       "    border-color: transparent;\n",
       "    border-bottom-color: var(--fill-color);\n",
       "    animation:\n",
       "      spin 1s steps(1) infinite;\n",
       "  }\n",
       "\n",
       "  @keyframes spin {\n",
       "    0% {\n",
       "      border-color: transparent;\n",
       "      border-bottom-color: var(--fill-color);\n",
       "      border-left-color: var(--fill-color);\n",
       "    }\n",
       "    20% {\n",
       "      border-color: transparent;\n",
       "      border-left-color: var(--fill-color);\n",
       "      border-top-color: var(--fill-color);\n",
       "    }\n",
       "    30% {\n",
       "      border-color: transparent;\n",
       "      border-left-color: var(--fill-color);\n",
       "      border-top-color: var(--fill-color);\n",
       "      border-right-color: var(--fill-color);\n",
       "    }\n",
       "    40% {\n",
       "      border-color: transparent;\n",
       "      border-right-color: var(--fill-color);\n",
       "      border-top-color: var(--fill-color);\n",
       "    }\n",
       "    60% {\n",
       "      border-color: transparent;\n",
       "      border-right-color: var(--fill-color);\n",
       "    }\n",
       "    80% {\n",
       "      border-color: transparent;\n",
       "      border-right-color: var(--fill-color);\n",
       "      border-bottom-color: var(--fill-color);\n",
       "    }\n",
       "    90% {\n",
       "      border-color: transparent;\n",
       "      border-bottom-color: var(--fill-color);\n",
       "    }\n",
       "  }\n",
       "</style>\n",
       "\n",
       "  <script>\n",
       "    async function quickchart(key) {\n",
       "      const quickchartButtonEl =\n",
       "        document.querySelector('#' + key + ' button');\n",
       "      quickchartButtonEl.disabled = true;  // To prevent multiple clicks.\n",
       "      quickchartButtonEl.classList.add('colab-df-spinner');\n",
       "      try {\n",
       "        const charts = await google.colab.kernel.invokeFunction(\n",
       "            'suggestCharts', [key], {});\n",
       "      } catch (error) {\n",
       "        console.error('Error during call to suggestCharts:', error);\n",
       "      }\n",
       "      quickchartButtonEl.classList.remove('colab-df-spinner');\n",
       "      quickchartButtonEl.classList.add('colab-df-quickchart-complete');\n",
       "    }\n",
       "    (() => {\n",
       "      let quickchartButtonEl =\n",
       "        document.querySelector('#df-fa49dc17-e805-4f5b-9386-4ea4499ed2a5 button');\n",
       "      quickchartButtonEl.style.display =\n",
       "        google.colab.kernel.accessAllowed ? 'block' : 'none';\n",
       "    })();\n",
       "  </script>\n",
       "</div>\n",
       "    </div>\n",
       "  </div>\n"
      ],
      "text/plain": [
       "    IdFarmacia IdMedicamento Mes    Inference\n",
       "0        78158             1   1  5842.436214\n",
       "1        78158             1   2  5872.942515\n",
       "2        78158             1   3  5903.448816\n",
       "3        78158             1   4  5933.955118\n",
       "4        78158             1   5  5964.461419\n",
       "..         ...           ...  ..          ...\n",
       "715       8823             3  20  2178.612357\n",
       "716       8823             3  21  2209.118658\n",
       "717       8823             3  22  2239.624959\n",
       "718       8823             3  23  2270.131260\n",
       "719       8823             3  24  2300.637562\n",
       "\n",
       "[720 rows x 4 columns]"
      ]
     },
     "execution_count": 26,
     "metadata": {},
     "output_type": "execute_result"
    }
   ],
   "source": [
    "dt"
   ]
  },
  {
   "cell_type": "markdown",
   "metadata": {
    "id": "jOgpECUGsuE7"
   },
   "source": [
    "In this documentation, each step in the script is clearly explained, helping users understand the purpose and functionality of different sections. This includes data preprocessing, model training, prediction, and exporting results, making it more accessible for users who may not be familiar with PySpark or the specific objectives of this notebook."
   ]
  },
  {
   "cell_type": "code",
   "execution_count": null,
   "metadata": {
    "id": "i11SddoFse-n"
   },
   "outputs": [],
   "source": []
  }
 ],
 "metadata": {
  "colab": {
   "provenance": []
  },
  "kernelspec": {
   "display_name": "Python 3 (ipykernel)",
   "language": "python",
   "name": "python3"
  },
  "language_info": {
   "codemirror_mode": {
    "name": "ipython",
    "version": 3
   },
   "file_extension": ".py",
   "mimetype": "text/x-python",
   "name": "python",
   "nbconvert_exporter": "python",
   "pygments_lexer": "ipython3",
   "version": "3.11.3"
  }
 },
 "nbformat": 4,
 "nbformat_minor": 4
}
